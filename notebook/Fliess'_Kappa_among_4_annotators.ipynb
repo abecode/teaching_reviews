{
  "nbformat": 4,
  "nbformat_minor": 0,
  "metadata": {
    "colab": {
      "provenance": [],
      "gpuType": "T4"
    },
    "kernelspec": {
      "name": "python3",
      "display_name": "Python 3"
    },
    "language_info": {
      "name": "python"
    },
    "accelerator": "GPU"
  },
  "cells": [
    {
      "cell_type": "code",
      "execution_count": 40,
      "metadata": {
        "colab": {
          "base_uri": "https://localhost:8080/"
        },
        "id": "vUsEkaC8oB7x",
        "outputId": "813553e0-3462-4d2e-b78b-41d3690ab0c2"
      },
      "outputs": [
        {
          "output_type": "stream",
          "name": "stdout",
          "text": [
            "fatal: destination path 'teaching_reviews' already exists and is not an empty directory.\n"
          ]
        }
      ],
      "source": [
        "!git clone https://github.com/abecode/teaching_reviews.git"
      ]
    },
    {
      "cell_type": "code",
      "source": [
        "!cp /content/teaching_reviews/data_prodigy/prodigy.sentence-level.20240701.db /content/\n",
        "!cp /content/teaching_reviews/data_prodigy/prodigy.sentence-level.20240605.db /content/"
      ],
      "metadata": {
        "id": "SyRz71vNorKf"
      },
      "execution_count": 41,
      "outputs": []
    },
    {
      "cell_type": "code",
      "source": [
        "!ls /content/"
      ],
      "metadata": {
        "colab": {
          "base_uri": "https://localhost:8080/"
        },
        "id": "5PrrJgjNq9g4",
        "outputId": "b207628f-06c5-4152-d49e-dc1ec094c418"
      },
      "execution_count": 42,
      "outputs": [
        {
          "output_type": "stream",
          "name": "stdout",
          "text": [
            "prodigy.sentence-level.20240605.db  sample_data\n",
            "prodigy.sentence-level.20240701.db  teaching_reviews\n"
          ]
        }
      ]
    },
    {
      "cell_type": "code",
      "source": [
        "import sqlite3\n",
        "\n",
        "db_path = '/content/prodigy.sentence-level.20240701.db'\n"
      ],
      "metadata": {
        "id": "5udvnU_xquq-"
      },
      "execution_count": 43,
      "outputs": []
    },
    {
      "cell_type": "code",
      "source": [
        "conn = sqlite3.connect(db_path)"
      ],
      "metadata": {
        "id": "04y2FL8yst-i"
      },
      "execution_count": 44,
      "outputs": []
    },
    {
      "cell_type": "code",
      "source": [
        "sakthi_annotations = conn.execute(\"\"\"select dataset.id, dataset.name, dataset.created, dataset.meta, dataset.session,\n",
        "                                        example.id, example.input_hash, example.task_hash, example.content\n",
        "                                 from dataset, example, link\n",
        "                                 where dataset.id = link.dataset_id\n",
        "                                   and link.example_id = example.id\n",
        "                                   and dataset.name = 'teaching_reviews_sentences-sakthi';\"\"\").fetchall()"
      ],
      "metadata": {
        "id": "M_X9jJmHoBVf"
      },
      "execution_count": 45,
      "outputs": []
    },
    {
      "cell_type": "code",
      "source": [
        "len(sakthi_annotations)"
      ],
      "metadata": {
        "colab": {
          "base_uri": "https://localhost:8080/"
        },
        "id": "YssPEVETkZJ3",
        "outputId": "f4b73416-8734-457c-8106-569d7d6a1ee9"
      },
      "execution_count": 46,
      "outputs": [
        {
          "output_type": "execute_result",
          "data": {
            "text/plain": [
              "725"
            ]
          },
          "metadata": {},
          "execution_count": 46
        }
      ]
    },
    {
      "cell_type": "code",
      "source": [
        "jenny_annotations = conn.execute(\"\"\"select dataset.id, dataset.name, dataset.created, dataset.meta, dataset.session,\n",
        "                                        example.id, example.input_hash, example.task_hash, example.content\n",
        "                                 from dataset, example, link\n",
        "                                 where dataset.id = link.dataset_id\n",
        "                                   and link.example_id = example.id\n",
        "                                   and dataset.name = 'teaching_reviews_sentences-jenny';\"\"\").fetchall()\n"
      ],
      "metadata": {
        "id": "nU3QeyTro78w"
      },
      "execution_count": 47,
      "outputs": []
    },
    {
      "cell_type": "code",
      "source": [
        "len(jenny_annotations)"
      ],
      "metadata": {
        "id": "_yMvOF2BpvI2",
        "outputId": "59abd35a-d3a6-410d-eea0-e694cce8a941",
        "colab": {
          "base_uri": "https://localhost:8080/"
        }
      },
      "execution_count": 48,
      "outputs": [
        {
          "output_type": "execute_result",
          "data": {
            "text/plain": [
              "725"
            ]
          },
          "metadata": {},
          "execution_count": 48
        }
      ]
    },
    {
      "cell_type": "code",
      "source": [
        "abe_annotations = conn.execute(\"\"\"select dataset.id, dataset.name, dataset.created, dataset.meta, dataset.session,\n",
        "                                        example.id, example.input_hash, example.task_hash, example.content\n",
        "                                 from dataset, example, link\n",
        "                                 where dataset.id = link.dataset_id\n",
        "                                   and link.example_id = example.id\n",
        "                                   and dataset.name = 'teaching_reviews_sentences-abe';\"\"\").fetchall()\n"
      ],
      "metadata": {
        "id": "xcsG8kUW4sRd"
      },
      "execution_count": 49,
      "outputs": []
    },
    {
      "cell_type": "code",
      "source": [
        "len(abe_annotations)"
      ],
      "metadata": {
        "colab": {
          "base_uri": "https://localhost:8080/"
        },
        "id": "rk6lx8lp4weu",
        "outputId": "518d1a32-225f-4983-debd-4ed3394fe95e"
      },
      "execution_count": 50,
      "outputs": [
        {
          "output_type": "execute_result",
          "data": {
            "text/plain": [
              "725"
            ]
          },
          "metadata": {},
          "execution_count": 50
        }
      ]
    },
    {
      "cell_type": "code",
      "source": [
        "mengyuan_annotations = conn.execute(\"\"\"select dataset.id, dataset.name, dataset.created, dataset.meta, dataset.session,\n",
        "                                        example.id, example.input_hash, example.task_hash, example.content\n",
        "                                 from dataset, example, link\n",
        "                                 where dataset.id = link.dataset_id\n",
        "                                   and link.example_id = example.id\n",
        "                                   and dataset.name = 'teaching_reviews_sentences-mengyuan';\"\"\").fetchall()"
      ],
      "metadata": {
        "id": "14PUeMac40QI"
      },
      "execution_count": 51,
      "outputs": []
    },
    {
      "cell_type": "code",
      "source": [
        "len(mengyuan_annotations)"
      ],
      "metadata": {
        "colab": {
          "base_uri": "https://localhost:8080/"
        },
        "id": "dSDxU1WW4_G7",
        "outputId": "57d52ae4-9e59-4873-8e93-a811e64afb52"
      },
      "execution_count": 52,
      "outputs": [
        {
          "output_type": "execute_result",
          "data": {
            "text/plain": [
              "725"
            ]
          },
          "metadata": {},
          "execution_count": 52
        }
      ]
    },
    {
      "cell_type": "code",
      "source": [
        "input_hashes = [];\n",
        "task_hashes = [];\n",
        "for annotation in sakthi_annotations:\n",
        "  input_hashes.append(annotation[5])\n",
        "  task_hashes.append(annotation[6])\n",
        "for annotation in jenny_annotations:\n",
        "  input_hashes.append(annotation[5])\n",
        "  task_hashes.append(annotation[6])"
      ],
      "metadata": {
        "id": "nJ40dO98mEFr"
      },
      "execution_count": 53,
      "outputs": []
    },
    {
      "cell_type": "code",
      "source": [
        "print(len(input_hashes))\n",
        "print(len(task_hashes))\n",
        "print(len(set(input_hashes)))\n",
        "print(len(set(task_hashes)))"
      ],
      "metadata": {
        "id": "aZU6-VlSs9nU",
        "outputId": "281687f8-fb02-47c9-b303-ccb8a798ba74",
        "colab": {
          "base_uri": "https://localhost:8080/"
        }
      },
      "execution_count": 54,
      "outputs": [
        {
          "output_type": "stream",
          "name": "stdout",
          "text": [
            "1450\n",
            "1450\n",
            "1450\n",
            "725\n"
          ]
        }
      ]
    },
    {
      "cell_type": "code",
      "source": [
        "import pandas as pd\n",
        "import json\n",
        "import numpy as np"
      ],
      "metadata": {
        "id": "IsnLzrHTtGbu"
      },
      "execution_count": 55,
      "outputs": []
    },
    {
      "cell_type": "code",
      "source": [
        "sakthi_anno_df = pd.DataFrame({\"annotator\": [\"sakthi\" for x in sakthi_annotations],\n",
        "                           \"input_hash\": [x[5] for x in sakthi_annotations],\n",
        "                           \"task_hash\": [x[6] for x in sakthi_annotations],\n",
        "                           #\"content\": [x[8] for x in sakthi_annotations],\n",
        "                           \"text\": [json.loads(x[8])['text'] for x in sakthi_annotations],\n",
        "                           \"annotation\":  [json.loads(x[8])['accept'] for x in sakthi_annotations]})"
      ],
      "metadata": {
        "id": "woefTEB-x3nZ"
      },
      "execution_count": 56,
      "outputs": []
    },
    {
      "cell_type": "code",
      "source": [
        "jenny_anno_df = pd.DataFrame({\"annotator\": [\"jenny\" for x in jenny_annotations],\n",
        "                           \"input_hash\": [x[5] for x in jenny_annotations],\n",
        "                           \"task_hash\": [x[6] for x in jenny_annotations],\n",
        "                           #\"content\": [x[8] for x in jenny_annotations],\n",
        "                           \"text\": [json.loads(x[8])['text'] for x in jenny_annotations],\n",
        "                           \"annotation\":  [json.loads(x[8])['accept'] for x in jenny_annotations]})"
      ],
      "metadata": {
        "id": "j_BiRsf2zfZF"
      },
      "execution_count": 57,
      "outputs": []
    },
    {
      "cell_type": "code",
      "source": [
        "abe_anno_df = pd.DataFrame({\"annotator\": [\"abe\" for x in abe_annotations],\n",
        "                           \"input_hash\": [x[5] for x in abe_annotations],\n",
        "                           \"task_hash\": [x[6] for x in abe_annotations],\n",
        "                           #\"content\": [x[8] for x in abe_annotations],\n",
        "                           \"text\": [json.loads(x[8])['text'] for x in abe_annotations],\n",
        "                           \"annotation\":  [json.loads(x[8])['accept'] for x in abe_annotations]})"
      ],
      "metadata": {
        "id": "CKMLpleYyZj0"
      },
      "execution_count": 58,
      "outputs": []
    },
    {
      "cell_type": "code",
      "source": [
        "\n",
        "mengyuan_anno_df = pd.DataFrame({\"annotator\": [\"mengyuan\" for x in mengyuan_annotations],\n",
        "                           \"input_hash\": [x[5] for x in mengyuan_annotations],\n",
        "                           \"task_hash\": [x[6] for x in mengyuan_annotations],\n",
        "                           #\"content\": [x[8] for x in mengyuan_annotations],\n",
        "                           \"text\": [json.loads(x[8])['text'] for x in mengyuan_annotations],\n",
        "                           \"annotation\":  [json.loads(x[8])['accept'] for x in mengyuan_annotations]})"
      ],
      "metadata": {
        "id": "fr3_4x1ryalO"
      },
      "execution_count": 59,
      "outputs": []
    },
    {
      "cell_type": "markdown",
      "source": [
        "**Pick first label**"
      ],
      "metadata": {
        "id": "IIGDeKPBhuvr"
      }
    },
    {
      "cell_type": "code",
      "source": [
        "sakthi_anno_df_first_label = pd.DataFrame({\n",
        "    \"annotator\": [\"sakthi\" for x in sakthi_annotations],\n",
        "    \"annotation\": [json.loads(x[8])['accept'][0] if json.loads(x[8])['accept'] else None for x in sakthi_annotations]\n",
        "})\n",
        "\n",
        "jenny_anno_df_first_label = pd.DataFrame({\n",
        "    \"annotator\": [\"jenny\" for x in jenny_annotations],\n",
        "    \"annotation\": [json.loads(x[8])['accept'][0] if json.loads(x[8])['accept'] else None for x in jenny_annotations]\n",
        "})\n",
        "\n",
        "abe_anno_df_first_label = pd.DataFrame({\n",
        "    \"annotator\": [\"abe\" for x in abe_annotations],\n",
        "    \"annotation\": [json.loads(x[8])['accept'][0] if json.loads(x[8])['accept'] else None for x in abe_annotations]\n",
        "})\n",
        "\n",
        "mengyuan_anno_df_first_label = pd.DataFrame({\n",
        "    \"annotator\": [\"mengyuan\" for x in mengyuan_annotations],\n",
        "    \"annotation\": [json.loads(x[8])['accept'][0] if json.loads(x[8])['accept'] else None for x in mengyuan_annotations]\n",
        "})"
      ],
      "metadata": {
        "id": "JX5MvN1PUACt"
      },
      "execution_count": 60,
      "outputs": []
    },
    {
      "cell_type": "markdown",
      "source": [
        "**Merge 4 df**"
      ],
      "metadata": {
        "id": "9ml1Txfjh3mh"
      }
    },
    {
      "cell_type": "code",
      "source": [
        "merged_df_first_label = pd.DataFrame({\n",
        "    \"sakthi_annotation\": sakthi_anno_df_first_label[\"annotation\"],\n",
        "    \"jenny_annotation\": jenny_anno_df_first_label[\"annotation\"],\n",
        "    \"abe_annotation\": abe_anno_df_first_label[\"annotation\"],\n",
        "    \"mengyuan_annotation\": mengyuan_anno_df_first_label[\"annotation\"]\n",
        "}).dropna()  # Drop rows with None values if any\n",
        "merged_df_first_label"
      ],
      "metadata": {
        "colab": {
          "base_uri": "https://localhost:8080/",
          "height": 424
        },
        "id": "QIiHCFoch1M3",
        "outputId": "2b23ab78-3338-418d-c861-210baa301240"
      },
      "execution_count": 61,
      "outputs": [
        {
          "output_type": "execute_result",
          "data": {
            "text/plain": [
              "    sakthi_annotation jenny_annotation abe_annotation mengyuan_annotation\n",
              "0            POSITIVE         POSITIVE       POSITIVE            POSITIVE\n",
              "1          SUGGESTION       SUGGESTION          MIXED          SUGGESTION\n",
              "2            POSITIVE         POSITIVE       POSITIVE            POSITIVE\n",
              "3            POSITIVE         POSITIVE       POSITIVE            POSITIVE\n",
              "4            POSITIVE         POSITIVE       POSITIVE            POSITIVE\n",
              "..                ...              ...            ...                 ...\n",
              "720          POSITIVE         POSITIVE       POSITIVE            POSITIVE\n",
              "721          POSITIVE         POSITIVE       POSITIVE            POSITIVE\n",
              "722        SUGGESTION            MIXED       NEGATIVE          SUGGESTION\n",
              "723           NEUTRAL       SUGGESTION     SUGGESTION            POSITIVE\n",
              "724           NEUTRAL         NEGATIVE       NEGATIVE            NEGATIVE\n",
              "\n",
              "[724 rows x 4 columns]"
            ],
            "text/html": [
              "\n",
              "  <div id=\"df-3cc28395-0cef-435a-808a-0df7bfc77ceb\" class=\"colab-df-container\">\n",
              "    <div>\n",
              "<style scoped>\n",
              "    .dataframe tbody tr th:only-of-type {\n",
              "        vertical-align: middle;\n",
              "    }\n",
              "\n",
              "    .dataframe tbody tr th {\n",
              "        vertical-align: top;\n",
              "    }\n",
              "\n",
              "    .dataframe thead th {\n",
              "        text-align: right;\n",
              "    }\n",
              "</style>\n",
              "<table border=\"1\" class=\"dataframe\">\n",
              "  <thead>\n",
              "    <tr style=\"text-align: right;\">\n",
              "      <th></th>\n",
              "      <th>sakthi_annotation</th>\n",
              "      <th>jenny_annotation</th>\n",
              "      <th>abe_annotation</th>\n",
              "      <th>mengyuan_annotation</th>\n",
              "    </tr>\n",
              "  </thead>\n",
              "  <tbody>\n",
              "    <tr>\n",
              "      <th>0</th>\n",
              "      <td>POSITIVE</td>\n",
              "      <td>POSITIVE</td>\n",
              "      <td>POSITIVE</td>\n",
              "      <td>POSITIVE</td>\n",
              "    </tr>\n",
              "    <tr>\n",
              "      <th>1</th>\n",
              "      <td>SUGGESTION</td>\n",
              "      <td>SUGGESTION</td>\n",
              "      <td>MIXED</td>\n",
              "      <td>SUGGESTION</td>\n",
              "    </tr>\n",
              "    <tr>\n",
              "      <th>2</th>\n",
              "      <td>POSITIVE</td>\n",
              "      <td>POSITIVE</td>\n",
              "      <td>POSITIVE</td>\n",
              "      <td>POSITIVE</td>\n",
              "    </tr>\n",
              "    <tr>\n",
              "      <th>3</th>\n",
              "      <td>POSITIVE</td>\n",
              "      <td>POSITIVE</td>\n",
              "      <td>POSITIVE</td>\n",
              "      <td>POSITIVE</td>\n",
              "    </tr>\n",
              "    <tr>\n",
              "      <th>4</th>\n",
              "      <td>POSITIVE</td>\n",
              "      <td>POSITIVE</td>\n",
              "      <td>POSITIVE</td>\n",
              "      <td>POSITIVE</td>\n",
              "    </tr>\n",
              "    <tr>\n",
              "      <th>...</th>\n",
              "      <td>...</td>\n",
              "      <td>...</td>\n",
              "      <td>...</td>\n",
              "      <td>...</td>\n",
              "    </tr>\n",
              "    <tr>\n",
              "      <th>720</th>\n",
              "      <td>POSITIVE</td>\n",
              "      <td>POSITIVE</td>\n",
              "      <td>POSITIVE</td>\n",
              "      <td>POSITIVE</td>\n",
              "    </tr>\n",
              "    <tr>\n",
              "      <th>721</th>\n",
              "      <td>POSITIVE</td>\n",
              "      <td>POSITIVE</td>\n",
              "      <td>POSITIVE</td>\n",
              "      <td>POSITIVE</td>\n",
              "    </tr>\n",
              "    <tr>\n",
              "      <th>722</th>\n",
              "      <td>SUGGESTION</td>\n",
              "      <td>MIXED</td>\n",
              "      <td>NEGATIVE</td>\n",
              "      <td>SUGGESTION</td>\n",
              "    </tr>\n",
              "    <tr>\n",
              "      <th>723</th>\n",
              "      <td>NEUTRAL</td>\n",
              "      <td>SUGGESTION</td>\n",
              "      <td>SUGGESTION</td>\n",
              "      <td>POSITIVE</td>\n",
              "    </tr>\n",
              "    <tr>\n",
              "      <th>724</th>\n",
              "      <td>NEUTRAL</td>\n",
              "      <td>NEGATIVE</td>\n",
              "      <td>NEGATIVE</td>\n",
              "      <td>NEGATIVE</td>\n",
              "    </tr>\n",
              "  </tbody>\n",
              "</table>\n",
              "<p>724 rows × 4 columns</p>\n",
              "</div>\n",
              "    <div class=\"colab-df-buttons\">\n",
              "\n",
              "  <div class=\"colab-df-container\">\n",
              "    <button class=\"colab-df-convert\" onclick=\"convertToInteractive('df-3cc28395-0cef-435a-808a-0df7bfc77ceb')\"\n",
              "            title=\"Convert this dataframe to an interactive table.\"\n",
              "            style=\"display:none;\">\n",
              "\n",
              "  <svg xmlns=\"http://www.w3.org/2000/svg\" height=\"24px\" viewBox=\"0 -960 960 960\">\n",
              "    <path d=\"M120-120v-720h720v720H120Zm60-500h600v-160H180v160Zm220 220h160v-160H400v160Zm0 220h160v-160H400v160ZM180-400h160v-160H180v160Zm440 0h160v-160H620v160ZM180-180h160v-160H180v160Zm440 0h160v-160H620v160Z\"/>\n",
              "  </svg>\n",
              "    </button>\n",
              "\n",
              "  <style>\n",
              "    .colab-df-container {\n",
              "      display:flex;\n",
              "      gap: 12px;\n",
              "    }\n",
              "\n",
              "    .colab-df-convert {\n",
              "      background-color: #E8F0FE;\n",
              "      border: none;\n",
              "      border-radius: 50%;\n",
              "      cursor: pointer;\n",
              "      display: none;\n",
              "      fill: #1967D2;\n",
              "      height: 32px;\n",
              "      padding: 0 0 0 0;\n",
              "      width: 32px;\n",
              "    }\n",
              "\n",
              "    .colab-df-convert:hover {\n",
              "      background-color: #E2EBFA;\n",
              "      box-shadow: 0px 1px 2px rgba(60, 64, 67, 0.3), 0px 1px 3px 1px rgba(60, 64, 67, 0.15);\n",
              "      fill: #174EA6;\n",
              "    }\n",
              "\n",
              "    .colab-df-buttons div {\n",
              "      margin-bottom: 4px;\n",
              "    }\n",
              "\n",
              "    [theme=dark] .colab-df-convert {\n",
              "      background-color: #3B4455;\n",
              "      fill: #D2E3FC;\n",
              "    }\n",
              "\n",
              "    [theme=dark] .colab-df-convert:hover {\n",
              "      background-color: #434B5C;\n",
              "      box-shadow: 0px 1px 3px 1px rgba(0, 0, 0, 0.15);\n",
              "      filter: drop-shadow(0px 1px 2px rgba(0, 0, 0, 0.3));\n",
              "      fill: #FFFFFF;\n",
              "    }\n",
              "  </style>\n",
              "\n",
              "    <script>\n",
              "      const buttonEl =\n",
              "        document.querySelector('#df-3cc28395-0cef-435a-808a-0df7bfc77ceb button.colab-df-convert');\n",
              "      buttonEl.style.display =\n",
              "        google.colab.kernel.accessAllowed ? 'block' : 'none';\n",
              "\n",
              "      async function convertToInteractive(key) {\n",
              "        const element = document.querySelector('#df-3cc28395-0cef-435a-808a-0df7bfc77ceb');\n",
              "        const dataTable =\n",
              "          await google.colab.kernel.invokeFunction('convertToInteractive',\n",
              "                                                    [key], {});\n",
              "        if (!dataTable) return;\n",
              "\n",
              "        const docLinkHtml = 'Like what you see? Visit the ' +\n",
              "          '<a target=\"_blank\" href=https://colab.research.google.com/notebooks/data_table.ipynb>data table notebook</a>'\n",
              "          + ' to learn more about interactive tables.';\n",
              "        element.innerHTML = '';\n",
              "        dataTable['output_type'] = 'display_data';\n",
              "        await google.colab.output.renderOutput(dataTable, element);\n",
              "        const docLink = document.createElement('div');\n",
              "        docLink.innerHTML = docLinkHtml;\n",
              "        element.appendChild(docLink);\n",
              "      }\n",
              "    </script>\n",
              "  </div>\n",
              "\n",
              "\n",
              "<div id=\"df-cab61501-7011-4a62-b8d0-cb018133c40d\">\n",
              "  <button class=\"colab-df-quickchart\" onclick=\"quickchart('df-cab61501-7011-4a62-b8d0-cb018133c40d')\"\n",
              "            title=\"Suggest charts\"\n",
              "            style=\"display:none;\">\n",
              "\n",
              "<svg xmlns=\"http://www.w3.org/2000/svg\" height=\"24px\"viewBox=\"0 0 24 24\"\n",
              "     width=\"24px\">\n",
              "    <g>\n",
              "        <path d=\"M19 3H5c-1.1 0-2 .9-2 2v14c0 1.1.9 2 2 2h14c1.1 0 2-.9 2-2V5c0-1.1-.9-2-2-2zM9 17H7v-7h2v7zm4 0h-2V7h2v10zm4 0h-2v-4h2v4z\"/>\n",
              "    </g>\n",
              "</svg>\n",
              "  </button>\n",
              "\n",
              "<style>\n",
              "  .colab-df-quickchart {\n",
              "      --bg-color: #E8F0FE;\n",
              "      --fill-color: #1967D2;\n",
              "      --hover-bg-color: #E2EBFA;\n",
              "      --hover-fill-color: #174EA6;\n",
              "      --disabled-fill-color: #AAA;\n",
              "      --disabled-bg-color: #DDD;\n",
              "  }\n",
              "\n",
              "  [theme=dark] .colab-df-quickchart {\n",
              "      --bg-color: #3B4455;\n",
              "      --fill-color: #D2E3FC;\n",
              "      --hover-bg-color: #434B5C;\n",
              "      --hover-fill-color: #FFFFFF;\n",
              "      --disabled-bg-color: #3B4455;\n",
              "      --disabled-fill-color: #666;\n",
              "  }\n",
              "\n",
              "  .colab-df-quickchart {\n",
              "    background-color: var(--bg-color);\n",
              "    border: none;\n",
              "    border-radius: 50%;\n",
              "    cursor: pointer;\n",
              "    display: none;\n",
              "    fill: var(--fill-color);\n",
              "    height: 32px;\n",
              "    padding: 0;\n",
              "    width: 32px;\n",
              "  }\n",
              "\n",
              "  .colab-df-quickchart:hover {\n",
              "    background-color: var(--hover-bg-color);\n",
              "    box-shadow: 0 1px 2px rgba(60, 64, 67, 0.3), 0 1px 3px 1px rgba(60, 64, 67, 0.15);\n",
              "    fill: var(--button-hover-fill-color);\n",
              "  }\n",
              "\n",
              "  .colab-df-quickchart-complete:disabled,\n",
              "  .colab-df-quickchart-complete:disabled:hover {\n",
              "    background-color: var(--disabled-bg-color);\n",
              "    fill: var(--disabled-fill-color);\n",
              "    box-shadow: none;\n",
              "  }\n",
              "\n",
              "  .colab-df-spinner {\n",
              "    border: 2px solid var(--fill-color);\n",
              "    border-color: transparent;\n",
              "    border-bottom-color: var(--fill-color);\n",
              "    animation:\n",
              "      spin 1s steps(1) infinite;\n",
              "  }\n",
              "\n",
              "  @keyframes spin {\n",
              "    0% {\n",
              "      border-color: transparent;\n",
              "      border-bottom-color: var(--fill-color);\n",
              "      border-left-color: var(--fill-color);\n",
              "    }\n",
              "    20% {\n",
              "      border-color: transparent;\n",
              "      border-left-color: var(--fill-color);\n",
              "      border-top-color: var(--fill-color);\n",
              "    }\n",
              "    30% {\n",
              "      border-color: transparent;\n",
              "      border-left-color: var(--fill-color);\n",
              "      border-top-color: var(--fill-color);\n",
              "      border-right-color: var(--fill-color);\n",
              "    }\n",
              "    40% {\n",
              "      border-color: transparent;\n",
              "      border-right-color: var(--fill-color);\n",
              "      border-top-color: var(--fill-color);\n",
              "    }\n",
              "    60% {\n",
              "      border-color: transparent;\n",
              "      border-right-color: var(--fill-color);\n",
              "    }\n",
              "    80% {\n",
              "      border-color: transparent;\n",
              "      border-right-color: var(--fill-color);\n",
              "      border-bottom-color: var(--fill-color);\n",
              "    }\n",
              "    90% {\n",
              "      border-color: transparent;\n",
              "      border-bottom-color: var(--fill-color);\n",
              "    }\n",
              "  }\n",
              "</style>\n",
              "\n",
              "  <script>\n",
              "    async function quickchart(key) {\n",
              "      const quickchartButtonEl =\n",
              "        document.querySelector('#' + key + ' button');\n",
              "      quickchartButtonEl.disabled = true;  // To prevent multiple clicks.\n",
              "      quickchartButtonEl.classList.add('colab-df-spinner');\n",
              "      try {\n",
              "        const charts = await google.colab.kernel.invokeFunction(\n",
              "            'suggestCharts', [key], {});\n",
              "      } catch (error) {\n",
              "        console.error('Error during call to suggestCharts:', error);\n",
              "      }\n",
              "      quickchartButtonEl.classList.remove('colab-df-spinner');\n",
              "      quickchartButtonEl.classList.add('colab-df-quickchart-complete');\n",
              "    }\n",
              "    (() => {\n",
              "      let quickchartButtonEl =\n",
              "        document.querySelector('#df-cab61501-7011-4a62-b8d0-cb018133c40d button');\n",
              "      quickchartButtonEl.style.display =\n",
              "        google.colab.kernel.accessAllowed ? 'block' : 'none';\n",
              "    })();\n",
              "  </script>\n",
              "</div>\n",
              "\n",
              "  <div id=\"id_b6d8df38-8da4-4a35-9e46-5ba5aaee0d71\">\n",
              "    <style>\n",
              "      .colab-df-generate {\n",
              "        background-color: #E8F0FE;\n",
              "        border: none;\n",
              "        border-radius: 50%;\n",
              "        cursor: pointer;\n",
              "        display: none;\n",
              "        fill: #1967D2;\n",
              "        height: 32px;\n",
              "        padding: 0 0 0 0;\n",
              "        width: 32px;\n",
              "      }\n",
              "\n",
              "      .colab-df-generate:hover {\n",
              "        background-color: #E2EBFA;\n",
              "        box-shadow: 0px 1px 2px rgba(60, 64, 67, 0.3), 0px 1px 3px 1px rgba(60, 64, 67, 0.15);\n",
              "        fill: #174EA6;\n",
              "      }\n",
              "\n",
              "      [theme=dark] .colab-df-generate {\n",
              "        background-color: #3B4455;\n",
              "        fill: #D2E3FC;\n",
              "      }\n",
              "\n",
              "      [theme=dark] .colab-df-generate:hover {\n",
              "        background-color: #434B5C;\n",
              "        box-shadow: 0px 1px 3px 1px rgba(0, 0, 0, 0.15);\n",
              "        filter: drop-shadow(0px 1px 2px rgba(0, 0, 0, 0.3));\n",
              "        fill: #FFFFFF;\n",
              "      }\n",
              "    </style>\n",
              "    <button class=\"colab-df-generate\" onclick=\"generateWithVariable('merged_df_first_label')\"\n",
              "            title=\"Generate code using this dataframe.\"\n",
              "            style=\"display:none;\">\n",
              "\n",
              "  <svg xmlns=\"http://www.w3.org/2000/svg\" height=\"24px\"viewBox=\"0 0 24 24\"\n",
              "       width=\"24px\">\n",
              "    <path d=\"M7,19H8.4L18.45,9,17,7.55,7,17.6ZM5,21V16.75L18.45,3.32a2,2,0,0,1,2.83,0l1.4,1.43a1.91,1.91,0,0,1,.58,1.4,1.91,1.91,0,0,1-.58,1.4L9.25,21ZM18.45,9,17,7.55Zm-12,3A5.31,5.31,0,0,0,4.9,8.1,5.31,5.31,0,0,0,1,6.5,5.31,5.31,0,0,0,4.9,4.9,5.31,5.31,0,0,0,6.5,1,5.31,5.31,0,0,0,8.1,4.9,5.31,5.31,0,0,0,12,6.5,5.46,5.46,0,0,0,6.5,12Z\"/>\n",
              "  </svg>\n",
              "    </button>\n",
              "    <script>\n",
              "      (() => {\n",
              "      const buttonEl =\n",
              "        document.querySelector('#id_b6d8df38-8da4-4a35-9e46-5ba5aaee0d71 button.colab-df-generate');\n",
              "      buttonEl.style.display =\n",
              "        google.colab.kernel.accessAllowed ? 'block' : 'none';\n",
              "\n",
              "      buttonEl.onclick = () => {\n",
              "        google.colab.notebook.generateWithVariable('merged_df_first_label');\n",
              "      }\n",
              "      })();\n",
              "    </script>\n",
              "  </div>\n",
              "\n",
              "    </div>\n",
              "  </div>\n"
            ],
            "application/vnd.google.colaboratory.intrinsic+json": {
              "type": "dataframe",
              "variable_name": "merged_df_first_label",
              "summary": "{\n  \"name\": \"merged_df_first_label\",\n  \"rows\": 724,\n  \"fields\": [\n    {\n      \"column\": \"sakthi_annotation\",\n      \"properties\": {\n        \"dtype\": \"category\",\n        \"num_unique_values\": 6,\n        \"samples\": [\n          \"POSITIVE\",\n          \"SUGGESTION\",\n          \"UNSURE\"\n        ],\n        \"semantic_type\": \"\",\n        \"description\": \"\"\n      }\n    },\n    {\n      \"column\": \"jenny_annotation\",\n      \"properties\": {\n        \"dtype\": \"category\",\n        \"num_unique_values\": 6,\n        \"samples\": [\n          \"POSITIVE\",\n          \"SUGGESTION\",\n          \"NEUTRAL\"\n        ],\n        \"semantic_type\": \"\",\n        \"description\": \"\"\n      }\n    },\n    {\n      \"column\": \"abe_annotation\",\n      \"properties\": {\n        \"dtype\": \"category\",\n        \"num_unique_values\": 6,\n        \"samples\": [\n          \"POSITIVE\",\n          \"MIXED\",\n          \"UNSURE\"\n        ],\n        \"semantic_type\": \"\",\n        \"description\": \"\"\n      }\n    },\n    {\n      \"column\": \"mengyuan_annotation\",\n      \"properties\": {\n        \"dtype\": \"category\",\n        \"num_unique_values\": 6,\n        \"samples\": [\n          \"POSITIVE\",\n          \"SUGGESTION\",\n          \"NEUTRAL\"\n        ],\n        \"semantic_type\": \"\",\n        \"description\": \"\"\n      }\n    }\n  ]\n}"
            }
          },
          "metadata": {},
          "execution_count": 61
        }
      ]
    },
    {
      "cell_type": "markdown",
      "source": [
        "**Define Label Maping**"
      ],
      "metadata": {
        "id": "Bd0g7-1YiOKE"
      }
    },
    {
      "cell_type": "code",
      "source": [
        "label_mapping = {\n",
        "    'POSITIVE': 0,\n",
        "    'NEGATIVE': 1,\n",
        "    'NEUTRAL': 2,\n",
        "    'SUGGESTION': 3,\n",
        "    'MIXED': 4,\n",
        "    'UNSURE': 5\n",
        "}\n",
        "def map_labels(label):\n",
        "    return label_mapping.get(label, -1)\n",
        "df_numeric = merged_df_first_label.applymap(map_labels)"
      ],
      "metadata": {
        "id": "gmYbsAnUh1O0"
      },
      "execution_count": 62,
      "outputs": []
    },
    {
      "cell_type": "markdown",
      "source": [
        "**Get statistic table**"
      ],
      "metadata": {
        "id": "AWufhjwOlyJB"
      }
    },
    {
      "cell_type": "code",
      "source": [
        "n_categories = len(label_mapping)\n",
        "counts = np.zeros((len(df_numeric), n_categories))\n",
        "\n",
        "for i in range(len(df_numeric)):\n",
        "    counts[i] = np.bincount(df_numeric.iloc[i], minlength=n_categories)\n",
        "\n",
        "print(counts)"
      ],
      "metadata": {
        "colab": {
          "base_uri": "https://localhost:8080/"
        },
        "id": "soaWHg-4mIn6",
        "outputId": "1a0b591d-0c44-4ec4-848b-af123afe4220"
      },
      "execution_count": 63,
      "outputs": [
        {
          "output_type": "stream",
          "name": "stdout",
          "text": [
            "[[4. 0. 0. 0. 0. 0.]\n",
            " [0. 0. 0. 3. 1. 0.]\n",
            " [4. 0. 0. 0. 0. 0.]\n",
            " ...\n",
            " [0. 1. 0. 2. 1. 0.]\n",
            " [1. 0. 1. 2. 0. 0.]\n",
            " [0. 3. 1. 0. 0. 0.]]\n"
          ]
        }
      ]
    },
    {
      "cell_type": "code",
      "source": [
        "from statsmodels.stats.inter_rater import fleiss_kappa\n",
        "\n",
        "kappa = fleiss_kappa(counts)\n",
        "print(f'Fleiss\\' kappa for the fist label: {kappa}')"
      ],
      "metadata": {
        "colab": {
          "base_uri": "https://localhost:8080/"
        },
        "id": "zw1tWicDh1RD",
        "outputId": "f067021b-be04-4fb5-eae2-01bd3989319d"
      },
      "execution_count": 64,
      "outputs": [
        {
          "output_type": "stream",
          "name": "stdout",
          "text": [
            "Fleiss' kappa for the fist label: 0.6473087366235425\n"
          ]
        }
      ]
    },
    {
      "cell_type": "markdown",
      "source": [
        "**Fleiss\\' kappa value Reference**\n",
        "\n",
        "< 0\tPoor agreement\n",
        "\n",
        "0.01 – 0.20\tSlight agreement\n",
        "\n",
        "0.21 – 0.40\tFair agreement\n",
        "\n",
        "0.41 – 0.60\tModerate agreement\n",
        "\n",
        "0.61 – 0.80\tSubstantial agreement\n",
        "\n",
        "0.81 – 1.00\tAlmost perfect agreement"
      ],
      "metadata": {
        "id": "71AcYflVmCfG"
      }
    },
    {
      "cell_type": "code",
      "source": [
        "# function to pick the single main label\n",
        "def get_main_label(labels):\n",
        "  if len(labels) == 1:\n",
        "    return labels[0]\n",
        "  elif \"UNSURE\" in labels:\n",
        "    return \"UNSURE\"\n",
        "  elif None in labels: # this may be something to double check\n",
        "    return \"UNSURE\"\n",
        "  elif labels == None:\n",
        "    return \"UNSURE\"\n",
        "  elif \"MIXED\" in labels:\n",
        "    return \"MIXED\"\n",
        "  elif len(labels) > 1:\n",
        "    return \"MIXED\"\n",
        "  raise Exception(\"No main label found\")"
      ],
      "metadata": {
        "id": "NIVRzKV_h1Vy"
      },
      "execution_count": 65,
      "outputs": []
    },
    {
      "cell_type": "code",
      "source": [
        "sakthi_anno_df_main_label = pd.DataFrame({\n",
        "    \"annotator\": [\"sakthi\" for x in sakthi_annotations],\n",
        "    \"annotation\": [get_main_label(json.loads(x[8])['accept']) if json.loads(x[8])['accept'] else None for x in sakthi_annotations]\n",
        "})\n",
        "\n",
        "jenny_anno_df_main_label = pd.DataFrame({\n",
        "    \"annotator\": [\"jenny\" for x in jenny_annotations],\n",
        "    \"annotation\": [get_main_label(json.loads(x[8])['accept']) if json.loads(x[8])['accept'] else None for x in jenny_annotations]\n",
        "})"
      ],
      "metadata": {
        "id": "vK5QwO2M5HZc"
      },
      "execution_count": 66,
      "outputs": []
    },
    {
      "cell_type": "code",
      "source": [
        "mengyuan_anno_df_main_label = pd.DataFrame({\n",
        "    \"annotator\": [\"mengyuan\" for x in mengyuan_annotations],\n",
        "    \"annotation\": [get_main_label(json.loads(x[8])['accept']) if json.loads(x[8])['accept'] else None for x in mengyuan_annotations]\n",
        "})\n",
        "#mengyuan_anno_df_main_label['annotation'] = mengyuan_anno_df_main_label['annotation'].fillna(\"UNSURE\")\n",
        "abe_anno_df_main_label = pd.DataFrame({\n",
        "    \"annotator\": [\"abe\" for x in abe_annotations],\n",
        "    \"annotation\": [get_main_label(json.loads(x[8])['accept']) if json.loads(x[8])['accept'] else None for x in abe_annotations]\n",
        "})"
      ],
      "metadata": {
        "id": "uzZk_1TX55NP"
      },
      "execution_count": 67,
      "outputs": []
    },
    {
      "cell_type": "code",
      "source": [
        "none_indices = mengyuan_anno_df_main_label[mengyuan_anno_df_main_label['annotation'].isnull()].index\n",
        "\n",
        "print(\"Indices of rows with None values in 'annotation' column:\")\n",
        "print(none_indices.tolist())\n",
        "mengyuan_anno_df_main_label['annotation'] = mengyuan_anno_df_main_label['annotation'].fillna(\"UNSURE\")"
      ],
      "metadata": {
        "colab": {
          "base_uri": "https://localhost:8080/"
        },
        "id": "wE4mjwdT5_u2",
        "outputId": "6d7fe97b-5404-4168-ed06-82a9608f63d3"
      },
      "execution_count": 68,
      "outputs": [
        {
          "output_type": "stream",
          "name": "stdout",
          "text": [
            "Indices of rows with None values in 'annotation' column:\n",
            "[77]\n"
          ]
        }
      ]
    },
    {
      "cell_type": "code",
      "source": [
        "for label in mengyuan_anno_df_main_label['annotation']:\n",
        "  if label not in set([\"UNSURE\", \"MIXED\", \"POSITIVE\", \"NEGATIVE\", \"NEUTRAL\", \"SUGGESTION\"]):\n",
        "     print(label)"
      ],
      "metadata": {
        "id": "aWpYlLTE6VEa"
      },
      "execution_count": 69,
      "outputs": []
    },
    {
      "cell_type": "code",
      "source": [
        "merged_df_main_label = pd.DataFrame({\n",
        "    \"sakthi_annotation\": sakthi_anno_df_main_label[\"annotation\"],\n",
        "    \"jenny_annotation\": jenny_anno_df_main_label[\"annotation\"],\n",
        "    \"abe_annotation\": abe_anno_df_main_label[\"annotation\"],\n",
        "    \"mengyuan_annotation\": mengyuan_anno_df_main_label[\"annotation\"]\n",
        "}).dropna()  # Drop rows with None values if any\n",
        "merged_df_main_label"
      ],
      "metadata": {
        "colab": {
          "base_uri": "https://localhost:8080/",
          "height": 424
        },
        "id": "_dlb1L7H69j1",
        "outputId": "ce522e7a-5926-41cd-cde7-743aac784852"
      },
      "execution_count": 70,
      "outputs": [
        {
          "output_type": "execute_result",
          "data": {
            "text/plain": [
              "    sakthi_annotation jenny_annotation abe_annotation mengyuan_annotation\n",
              "0            POSITIVE         POSITIVE       POSITIVE            POSITIVE\n",
              "1          SUGGESTION            MIXED          MIXED          SUGGESTION\n",
              "2            POSITIVE         POSITIVE       POSITIVE            POSITIVE\n",
              "3            POSITIVE         POSITIVE       POSITIVE            POSITIVE\n",
              "4            POSITIVE         POSITIVE       POSITIVE            POSITIVE\n",
              "..                ...              ...            ...                 ...\n",
              "720          POSITIVE         POSITIVE       POSITIVE            POSITIVE\n",
              "721          POSITIVE         POSITIVE       POSITIVE            POSITIVE\n",
              "722        SUGGESTION            MIXED          MIXED          SUGGESTION\n",
              "723           NEUTRAL       SUGGESTION     SUGGESTION            POSITIVE\n",
              "724           NEUTRAL         NEGATIVE       NEGATIVE            NEGATIVE\n",
              "\n",
              "[725 rows x 4 columns]"
            ],
            "text/html": [
              "\n",
              "  <div id=\"df-9cfa93e4-c6e5-4a28-8c25-763fb56b112e\" class=\"colab-df-container\">\n",
              "    <div>\n",
              "<style scoped>\n",
              "    .dataframe tbody tr th:only-of-type {\n",
              "        vertical-align: middle;\n",
              "    }\n",
              "\n",
              "    .dataframe tbody tr th {\n",
              "        vertical-align: top;\n",
              "    }\n",
              "\n",
              "    .dataframe thead th {\n",
              "        text-align: right;\n",
              "    }\n",
              "</style>\n",
              "<table border=\"1\" class=\"dataframe\">\n",
              "  <thead>\n",
              "    <tr style=\"text-align: right;\">\n",
              "      <th></th>\n",
              "      <th>sakthi_annotation</th>\n",
              "      <th>jenny_annotation</th>\n",
              "      <th>abe_annotation</th>\n",
              "      <th>mengyuan_annotation</th>\n",
              "    </tr>\n",
              "  </thead>\n",
              "  <tbody>\n",
              "    <tr>\n",
              "      <th>0</th>\n",
              "      <td>POSITIVE</td>\n",
              "      <td>POSITIVE</td>\n",
              "      <td>POSITIVE</td>\n",
              "      <td>POSITIVE</td>\n",
              "    </tr>\n",
              "    <tr>\n",
              "      <th>1</th>\n",
              "      <td>SUGGESTION</td>\n",
              "      <td>MIXED</td>\n",
              "      <td>MIXED</td>\n",
              "      <td>SUGGESTION</td>\n",
              "    </tr>\n",
              "    <tr>\n",
              "      <th>2</th>\n",
              "      <td>POSITIVE</td>\n",
              "      <td>POSITIVE</td>\n",
              "      <td>POSITIVE</td>\n",
              "      <td>POSITIVE</td>\n",
              "    </tr>\n",
              "    <tr>\n",
              "      <th>3</th>\n",
              "      <td>POSITIVE</td>\n",
              "      <td>POSITIVE</td>\n",
              "      <td>POSITIVE</td>\n",
              "      <td>POSITIVE</td>\n",
              "    </tr>\n",
              "    <tr>\n",
              "      <th>4</th>\n",
              "      <td>POSITIVE</td>\n",
              "      <td>POSITIVE</td>\n",
              "      <td>POSITIVE</td>\n",
              "      <td>POSITIVE</td>\n",
              "    </tr>\n",
              "    <tr>\n",
              "      <th>...</th>\n",
              "      <td>...</td>\n",
              "      <td>...</td>\n",
              "      <td>...</td>\n",
              "      <td>...</td>\n",
              "    </tr>\n",
              "    <tr>\n",
              "      <th>720</th>\n",
              "      <td>POSITIVE</td>\n",
              "      <td>POSITIVE</td>\n",
              "      <td>POSITIVE</td>\n",
              "      <td>POSITIVE</td>\n",
              "    </tr>\n",
              "    <tr>\n",
              "      <th>721</th>\n",
              "      <td>POSITIVE</td>\n",
              "      <td>POSITIVE</td>\n",
              "      <td>POSITIVE</td>\n",
              "      <td>POSITIVE</td>\n",
              "    </tr>\n",
              "    <tr>\n",
              "      <th>722</th>\n",
              "      <td>SUGGESTION</td>\n",
              "      <td>MIXED</td>\n",
              "      <td>MIXED</td>\n",
              "      <td>SUGGESTION</td>\n",
              "    </tr>\n",
              "    <tr>\n",
              "      <th>723</th>\n",
              "      <td>NEUTRAL</td>\n",
              "      <td>SUGGESTION</td>\n",
              "      <td>SUGGESTION</td>\n",
              "      <td>POSITIVE</td>\n",
              "    </tr>\n",
              "    <tr>\n",
              "      <th>724</th>\n",
              "      <td>NEUTRAL</td>\n",
              "      <td>NEGATIVE</td>\n",
              "      <td>NEGATIVE</td>\n",
              "      <td>NEGATIVE</td>\n",
              "    </tr>\n",
              "  </tbody>\n",
              "</table>\n",
              "<p>725 rows × 4 columns</p>\n",
              "</div>\n",
              "    <div class=\"colab-df-buttons\">\n",
              "\n",
              "  <div class=\"colab-df-container\">\n",
              "    <button class=\"colab-df-convert\" onclick=\"convertToInteractive('df-9cfa93e4-c6e5-4a28-8c25-763fb56b112e')\"\n",
              "            title=\"Convert this dataframe to an interactive table.\"\n",
              "            style=\"display:none;\">\n",
              "\n",
              "  <svg xmlns=\"http://www.w3.org/2000/svg\" height=\"24px\" viewBox=\"0 -960 960 960\">\n",
              "    <path d=\"M120-120v-720h720v720H120Zm60-500h600v-160H180v160Zm220 220h160v-160H400v160Zm0 220h160v-160H400v160ZM180-400h160v-160H180v160Zm440 0h160v-160H620v160ZM180-180h160v-160H180v160Zm440 0h160v-160H620v160Z\"/>\n",
              "  </svg>\n",
              "    </button>\n",
              "\n",
              "  <style>\n",
              "    .colab-df-container {\n",
              "      display:flex;\n",
              "      gap: 12px;\n",
              "    }\n",
              "\n",
              "    .colab-df-convert {\n",
              "      background-color: #E8F0FE;\n",
              "      border: none;\n",
              "      border-radius: 50%;\n",
              "      cursor: pointer;\n",
              "      display: none;\n",
              "      fill: #1967D2;\n",
              "      height: 32px;\n",
              "      padding: 0 0 0 0;\n",
              "      width: 32px;\n",
              "    }\n",
              "\n",
              "    .colab-df-convert:hover {\n",
              "      background-color: #E2EBFA;\n",
              "      box-shadow: 0px 1px 2px rgba(60, 64, 67, 0.3), 0px 1px 3px 1px rgba(60, 64, 67, 0.15);\n",
              "      fill: #174EA6;\n",
              "    }\n",
              "\n",
              "    .colab-df-buttons div {\n",
              "      margin-bottom: 4px;\n",
              "    }\n",
              "\n",
              "    [theme=dark] .colab-df-convert {\n",
              "      background-color: #3B4455;\n",
              "      fill: #D2E3FC;\n",
              "    }\n",
              "\n",
              "    [theme=dark] .colab-df-convert:hover {\n",
              "      background-color: #434B5C;\n",
              "      box-shadow: 0px 1px 3px 1px rgba(0, 0, 0, 0.15);\n",
              "      filter: drop-shadow(0px 1px 2px rgba(0, 0, 0, 0.3));\n",
              "      fill: #FFFFFF;\n",
              "    }\n",
              "  </style>\n",
              "\n",
              "    <script>\n",
              "      const buttonEl =\n",
              "        document.querySelector('#df-9cfa93e4-c6e5-4a28-8c25-763fb56b112e button.colab-df-convert');\n",
              "      buttonEl.style.display =\n",
              "        google.colab.kernel.accessAllowed ? 'block' : 'none';\n",
              "\n",
              "      async function convertToInteractive(key) {\n",
              "        const element = document.querySelector('#df-9cfa93e4-c6e5-4a28-8c25-763fb56b112e');\n",
              "        const dataTable =\n",
              "          await google.colab.kernel.invokeFunction('convertToInteractive',\n",
              "                                                    [key], {});\n",
              "        if (!dataTable) return;\n",
              "\n",
              "        const docLinkHtml = 'Like what you see? Visit the ' +\n",
              "          '<a target=\"_blank\" href=https://colab.research.google.com/notebooks/data_table.ipynb>data table notebook</a>'\n",
              "          + ' to learn more about interactive tables.';\n",
              "        element.innerHTML = '';\n",
              "        dataTable['output_type'] = 'display_data';\n",
              "        await google.colab.output.renderOutput(dataTable, element);\n",
              "        const docLink = document.createElement('div');\n",
              "        docLink.innerHTML = docLinkHtml;\n",
              "        element.appendChild(docLink);\n",
              "      }\n",
              "    </script>\n",
              "  </div>\n",
              "\n",
              "\n",
              "<div id=\"df-15c611c8-cdc8-488f-8a7d-f303b10d0157\">\n",
              "  <button class=\"colab-df-quickchart\" onclick=\"quickchart('df-15c611c8-cdc8-488f-8a7d-f303b10d0157')\"\n",
              "            title=\"Suggest charts\"\n",
              "            style=\"display:none;\">\n",
              "\n",
              "<svg xmlns=\"http://www.w3.org/2000/svg\" height=\"24px\"viewBox=\"0 0 24 24\"\n",
              "     width=\"24px\">\n",
              "    <g>\n",
              "        <path d=\"M19 3H5c-1.1 0-2 .9-2 2v14c0 1.1.9 2 2 2h14c1.1 0 2-.9 2-2V5c0-1.1-.9-2-2-2zM9 17H7v-7h2v7zm4 0h-2V7h2v10zm4 0h-2v-4h2v4z\"/>\n",
              "    </g>\n",
              "</svg>\n",
              "  </button>\n",
              "\n",
              "<style>\n",
              "  .colab-df-quickchart {\n",
              "      --bg-color: #E8F0FE;\n",
              "      --fill-color: #1967D2;\n",
              "      --hover-bg-color: #E2EBFA;\n",
              "      --hover-fill-color: #174EA6;\n",
              "      --disabled-fill-color: #AAA;\n",
              "      --disabled-bg-color: #DDD;\n",
              "  }\n",
              "\n",
              "  [theme=dark] .colab-df-quickchart {\n",
              "      --bg-color: #3B4455;\n",
              "      --fill-color: #D2E3FC;\n",
              "      --hover-bg-color: #434B5C;\n",
              "      --hover-fill-color: #FFFFFF;\n",
              "      --disabled-bg-color: #3B4455;\n",
              "      --disabled-fill-color: #666;\n",
              "  }\n",
              "\n",
              "  .colab-df-quickchart {\n",
              "    background-color: var(--bg-color);\n",
              "    border: none;\n",
              "    border-radius: 50%;\n",
              "    cursor: pointer;\n",
              "    display: none;\n",
              "    fill: var(--fill-color);\n",
              "    height: 32px;\n",
              "    padding: 0;\n",
              "    width: 32px;\n",
              "  }\n",
              "\n",
              "  .colab-df-quickchart:hover {\n",
              "    background-color: var(--hover-bg-color);\n",
              "    box-shadow: 0 1px 2px rgba(60, 64, 67, 0.3), 0 1px 3px 1px rgba(60, 64, 67, 0.15);\n",
              "    fill: var(--button-hover-fill-color);\n",
              "  }\n",
              "\n",
              "  .colab-df-quickchart-complete:disabled,\n",
              "  .colab-df-quickchart-complete:disabled:hover {\n",
              "    background-color: var(--disabled-bg-color);\n",
              "    fill: var(--disabled-fill-color);\n",
              "    box-shadow: none;\n",
              "  }\n",
              "\n",
              "  .colab-df-spinner {\n",
              "    border: 2px solid var(--fill-color);\n",
              "    border-color: transparent;\n",
              "    border-bottom-color: var(--fill-color);\n",
              "    animation:\n",
              "      spin 1s steps(1) infinite;\n",
              "  }\n",
              "\n",
              "  @keyframes spin {\n",
              "    0% {\n",
              "      border-color: transparent;\n",
              "      border-bottom-color: var(--fill-color);\n",
              "      border-left-color: var(--fill-color);\n",
              "    }\n",
              "    20% {\n",
              "      border-color: transparent;\n",
              "      border-left-color: var(--fill-color);\n",
              "      border-top-color: var(--fill-color);\n",
              "    }\n",
              "    30% {\n",
              "      border-color: transparent;\n",
              "      border-left-color: var(--fill-color);\n",
              "      border-top-color: var(--fill-color);\n",
              "      border-right-color: var(--fill-color);\n",
              "    }\n",
              "    40% {\n",
              "      border-color: transparent;\n",
              "      border-right-color: var(--fill-color);\n",
              "      border-top-color: var(--fill-color);\n",
              "    }\n",
              "    60% {\n",
              "      border-color: transparent;\n",
              "      border-right-color: var(--fill-color);\n",
              "    }\n",
              "    80% {\n",
              "      border-color: transparent;\n",
              "      border-right-color: var(--fill-color);\n",
              "      border-bottom-color: var(--fill-color);\n",
              "    }\n",
              "    90% {\n",
              "      border-color: transparent;\n",
              "      border-bottom-color: var(--fill-color);\n",
              "    }\n",
              "  }\n",
              "</style>\n",
              "\n",
              "  <script>\n",
              "    async function quickchart(key) {\n",
              "      const quickchartButtonEl =\n",
              "        document.querySelector('#' + key + ' button');\n",
              "      quickchartButtonEl.disabled = true;  // To prevent multiple clicks.\n",
              "      quickchartButtonEl.classList.add('colab-df-spinner');\n",
              "      try {\n",
              "        const charts = await google.colab.kernel.invokeFunction(\n",
              "            'suggestCharts', [key], {});\n",
              "      } catch (error) {\n",
              "        console.error('Error during call to suggestCharts:', error);\n",
              "      }\n",
              "      quickchartButtonEl.classList.remove('colab-df-spinner');\n",
              "      quickchartButtonEl.classList.add('colab-df-quickchart-complete');\n",
              "    }\n",
              "    (() => {\n",
              "      let quickchartButtonEl =\n",
              "        document.querySelector('#df-15c611c8-cdc8-488f-8a7d-f303b10d0157 button');\n",
              "      quickchartButtonEl.style.display =\n",
              "        google.colab.kernel.accessAllowed ? 'block' : 'none';\n",
              "    })();\n",
              "  </script>\n",
              "</div>\n",
              "\n",
              "  <div id=\"id_03b8d302-8bf4-4068-a006-c6996235dd8a\">\n",
              "    <style>\n",
              "      .colab-df-generate {\n",
              "        background-color: #E8F0FE;\n",
              "        border: none;\n",
              "        border-radius: 50%;\n",
              "        cursor: pointer;\n",
              "        display: none;\n",
              "        fill: #1967D2;\n",
              "        height: 32px;\n",
              "        padding: 0 0 0 0;\n",
              "        width: 32px;\n",
              "      }\n",
              "\n",
              "      .colab-df-generate:hover {\n",
              "        background-color: #E2EBFA;\n",
              "        box-shadow: 0px 1px 2px rgba(60, 64, 67, 0.3), 0px 1px 3px 1px rgba(60, 64, 67, 0.15);\n",
              "        fill: #174EA6;\n",
              "      }\n",
              "\n",
              "      [theme=dark] .colab-df-generate {\n",
              "        background-color: #3B4455;\n",
              "        fill: #D2E3FC;\n",
              "      }\n",
              "\n",
              "      [theme=dark] .colab-df-generate:hover {\n",
              "        background-color: #434B5C;\n",
              "        box-shadow: 0px 1px 3px 1px rgba(0, 0, 0, 0.15);\n",
              "        filter: drop-shadow(0px 1px 2px rgba(0, 0, 0, 0.3));\n",
              "        fill: #FFFFFF;\n",
              "      }\n",
              "    </style>\n",
              "    <button class=\"colab-df-generate\" onclick=\"generateWithVariable('merged_df_main_label')\"\n",
              "            title=\"Generate code using this dataframe.\"\n",
              "            style=\"display:none;\">\n",
              "\n",
              "  <svg xmlns=\"http://www.w3.org/2000/svg\" height=\"24px\"viewBox=\"0 0 24 24\"\n",
              "       width=\"24px\">\n",
              "    <path d=\"M7,19H8.4L18.45,9,17,7.55,7,17.6ZM5,21V16.75L18.45,3.32a2,2,0,0,1,2.83,0l1.4,1.43a1.91,1.91,0,0,1,.58,1.4,1.91,1.91,0,0,1-.58,1.4L9.25,21ZM18.45,9,17,7.55Zm-12,3A5.31,5.31,0,0,0,4.9,8.1,5.31,5.31,0,0,0,1,6.5,5.31,5.31,0,0,0,4.9,4.9,5.31,5.31,0,0,0,6.5,1,5.31,5.31,0,0,0,8.1,4.9,5.31,5.31,0,0,0,12,6.5,5.46,5.46,0,0,0,6.5,12Z\"/>\n",
              "  </svg>\n",
              "    </button>\n",
              "    <script>\n",
              "      (() => {\n",
              "      const buttonEl =\n",
              "        document.querySelector('#id_03b8d302-8bf4-4068-a006-c6996235dd8a button.colab-df-generate');\n",
              "      buttonEl.style.display =\n",
              "        google.colab.kernel.accessAllowed ? 'block' : 'none';\n",
              "\n",
              "      buttonEl.onclick = () => {\n",
              "        google.colab.notebook.generateWithVariable('merged_df_main_label');\n",
              "      }\n",
              "      })();\n",
              "    </script>\n",
              "  </div>\n",
              "\n",
              "    </div>\n",
              "  </div>\n"
            ],
            "application/vnd.google.colaboratory.intrinsic+json": {
              "type": "dataframe",
              "variable_name": "merged_df_main_label",
              "summary": "{\n  \"name\": \"merged_df_main_label\",\n  \"rows\": 725,\n  \"fields\": [\n    {\n      \"column\": \"sakthi_annotation\",\n      \"properties\": {\n        \"dtype\": \"category\",\n        \"num_unique_values\": 6,\n        \"samples\": [\n          \"POSITIVE\",\n          \"SUGGESTION\",\n          \"UNSURE\"\n        ],\n        \"semantic_type\": \"\",\n        \"description\": \"\"\n      }\n    },\n    {\n      \"column\": \"jenny_annotation\",\n      \"properties\": {\n        \"dtype\": \"category\",\n        \"num_unique_values\": 6,\n        \"samples\": [\n          \"POSITIVE\",\n          \"MIXED\",\n          \"NEUTRAL\"\n        ],\n        \"semantic_type\": \"\",\n        \"description\": \"\"\n      }\n    },\n    {\n      \"column\": \"abe_annotation\",\n      \"properties\": {\n        \"dtype\": \"category\",\n        \"num_unique_values\": 6,\n        \"samples\": [\n          \"POSITIVE\",\n          \"MIXED\",\n          \"UNSURE\"\n        ],\n        \"semantic_type\": \"\",\n        \"description\": \"\"\n      }\n    },\n    {\n      \"column\": \"mengyuan_annotation\",\n      \"properties\": {\n        \"dtype\": \"category\",\n        \"num_unique_values\": 6,\n        \"samples\": [\n          \"POSITIVE\",\n          \"SUGGESTION\",\n          \"NEUTRAL\"\n        ],\n        \"semantic_type\": \"\",\n        \"description\": \"\"\n      }\n    }\n  ]\n}"
            }
          },
          "metadata": {},
          "execution_count": 70
        }
      ]
    },
    {
      "cell_type": "code",
      "source": [
        "label_mapping2 = {\n",
        "    'POSITIVE': 0,\n",
        "    'NEGATIVE': 1,\n",
        "    'NEUTRAL': 2,\n",
        "    'SUGGESTION': 3,\n",
        "    'MIXED': 4,\n",
        "    'UNSURE': 5\n",
        "}\n",
        "def map_labels(label):\n",
        "    return label_mapping2.get(label, -1)\n",
        "df_numeric2 = merged_df_main_label.applymap(map_labels)"
      ],
      "metadata": {
        "id": "niB6_nKikuA9"
      },
      "execution_count": 71,
      "outputs": []
    },
    {
      "cell_type": "code",
      "source": [
        "n_categories = len(label_mapping2)\n",
        "counts = np.zeros((len(df_numeric2), n_categories))\n",
        "\n",
        "for i in range(len(df_numeric2)):\n",
        "    counts[i] = np.bincount(df_numeric2.iloc[i], minlength=n_categories)\n",
        "\n",
        "print(counts)"
      ],
      "metadata": {
        "colab": {
          "base_uri": "https://localhost:8080/"
        },
        "id": "OZauGeEj7mm4",
        "outputId": "89a0e37d-76e9-4a10-d813-5db364c91633"
      },
      "execution_count": 72,
      "outputs": [
        {
          "output_type": "stream",
          "name": "stdout",
          "text": [
            "[[4. 0. 0. 0. 0. 0.]\n",
            " [0. 0. 0. 2. 2. 0.]\n",
            " [4. 0. 0. 0. 0. 0.]\n",
            " ...\n",
            " [0. 0. 0. 2. 2. 0.]\n",
            " [1. 0. 1. 2. 0. 0.]\n",
            " [0. 3. 1. 0. 0. 0.]]\n"
          ]
        }
      ]
    },
    {
      "cell_type": "code",
      "source": [
        "kappa2 = fleiss_kappa(counts)\n",
        "print(f'Fleiss\\' kappa for the fist label: {kappa2}')"
      ],
      "metadata": {
        "id": "SXn34xsukuDD",
        "colab": {
          "base_uri": "https://localhost:8080/"
        },
        "outputId": "df9d571c-1012-4e9c-b31e-9326f98792ed"
      },
      "execution_count": 73,
      "outputs": [
        {
          "output_type": "stream",
          "name": "stdout",
          "text": [
            "Fleiss' kappa for the fist label: 0.6450134938452556\n"
          ]
        }
      ]
    },
    {
      "cell_type": "code",
      "source": [],
      "metadata": {
        "id": "D8gdEyS2kuFS"
      },
      "execution_count": 73,
      "outputs": []
    },
    {
      "cell_type": "code",
      "source": [],
      "metadata": {
        "id": "mapjp9WVkuJy"
      },
      "execution_count": 73,
      "outputs": []
    },
    {
      "cell_type": "code",
      "source": [],
      "metadata": {
        "id": "8zdcwSMGkuMK"
      },
      "execution_count": 73,
      "outputs": []
    },
    {
      "cell_type": "code",
      "source": [],
      "metadata": {
        "id": "f6NDhRfQkuOr"
      },
      "execution_count": 73,
      "outputs": []
    },
    {
      "cell_type": "code",
      "source": [],
      "metadata": {
        "id": "mkFhwiwWkuRO"
      },
      "execution_count": 73,
      "outputs": []
    },
    {
      "cell_type": "code",
      "source": [],
      "metadata": {
        "id": "dYYb45zkkuT2"
      },
      "execution_count": 73,
      "outputs": []
    },
    {
      "cell_type": "code",
      "source": [],
      "metadata": {
        "id": "3AiMRwzkkuWO"
      },
      "execution_count": 73,
      "outputs": []
    },
    {
      "cell_type": "code",
      "source": [],
      "metadata": {
        "id": "SwjaZNINkuY0"
      },
      "execution_count": 73,
      "outputs": []
    },
    {
      "cell_type": "code",
      "source": [],
      "metadata": {
        "id": "zpDZwylakubF"
      },
      "execution_count": 73,
      "outputs": []
    },
    {
      "cell_type": "code",
      "source": [],
      "metadata": {
        "id": "JthEyeJMkude"
      },
      "execution_count": 73,
      "outputs": []
    },
    {
      "cell_type": "code",
      "source": [],
      "metadata": {
        "id": "VBnqobv0kugH"
      },
      "execution_count": 73,
      "outputs": []
    },
    {
      "cell_type": "code",
      "source": [],
      "metadata": {
        "id": "u7BQP8YAkuir"
      },
      "execution_count": 73,
      "outputs": []
    },
    {
      "cell_type": "code",
      "source": [],
      "metadata": {
        "id": "iiH4US7xh1YA"
      },
      "execution_count": 73,
      "outputs": []
    },
    {
      "cell_type": "code",
      "source": [],
      "metadata": {
        "id": "DfJbTVrZy_iz"
      },
      "execution_count": 73,
      "outputs": []
    }
  ]
}